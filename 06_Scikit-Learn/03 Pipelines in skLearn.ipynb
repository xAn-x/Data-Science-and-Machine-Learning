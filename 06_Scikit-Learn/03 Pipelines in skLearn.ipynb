{
 "cells": [
  {
   "cell_type": "markdown",
   "metadata": {},
   "source": [
    "`Pipelines in ScikitLearn`\n"
   ]
  },
  {
   "cell_type": "markdown",
   "metadata": {},
   "source": [
    "Pipeline in scikit-learn (sklearn) is a powerful tool for building and managing machine learning workflows. It allows you to streamline the process of applying a sequence of data transformation and modeling steps, making your code cleaner, more organized, and easier to maintain. Here's why pipelines are useful and how to use them:\n",
    "\n",
    "# Why Use Pipelines:\n",
    "\n",
    "- Simplicity and Clarity: Pipelines make your code more readable and maintainable by encapsulating multiple steps in a single object. This can help reduce the risk of errors and make your code easier to understand.\n",
    "\n",
    "- Reproducibility: Pipelines ensure that the same data preprocessing and modeling steps are applied consistently to the training and testing data. This helps maintain the integrity of your experiments and makes it easier to reproduce your results.\n",
    "\n",
    "- Parameter Tuning: When performing hyperparameter tuning or cross-validation, pipelines ensure that the same preprocessing steps are applied to each fold of the cross-validation, preventing data leakage.\n",
    "\n",
    "- Integration with Grid Search: Pipelines can be used seamlessly with tools like GridSearchCV to search for the best hyperparameters and preprocessing options simultaneously.\n"
   ]
  },
  {
   "cell_type": "code",
   "execution_count": 40,
   "metadata": {},
   "outputs": [],
   "source": [
    "from sklearn.datasets import load_iris\n",
    "from sklearn.preprocessing import StandardScaler\n",
    "from sklearn.pipeline import Pipeline\n",
    "from sklearn.svm import SVC\n",
    "from sklearn.model_selection import train_test_split\n",
    "# For dimensionality-reducn\n",
    "from sklearn.decomposition import PCA"
   ]
  },
  {
   "cell_type": "code",
   "execution_count": 41,
   "metadata": {},
   "outputs": [],
   "source": [
    "# Loading Dataset and dividing it into training and testing data\n",
    "X, y = load_iris(return_X_y=True)\n",
    "X_train, X_test, y_train, y_test = train_test_split(\n",
    "    X, y, test_size=0.25, random_state=13)\n"
   ]
  },
  {
   "cell_type": "code",
   "execution_count": 42,
   "metadata": {},
   "outputs": [],
   "source": [
    "# Creating Scaler ,pca and Model Instance\n",
    "scaler = StandardScaler()\n",
    "pca = PCA(n_components=2)\n",
    "model = SVC()\n"
   ]
  },
  {
   "cell_type": "code",
   "execution_count": 43,
   "metadata": {},
   "outputs": [],
   "source": [
    "# Creating a Pipeline\n",
    "pipeline = Pipeline([('scaler', scaler),\n",
    "                     ('pca', pca),\n",
    "                     ('model', model)])"
   ]
  },
  {
   "cell_type": "code",
   "execution_count": 44,
   "metadata": {},
   "outputs": [
    {
     "name": "stdout",
     "output_type": "stream",
     "text": [
      "[1 1 0 2 2 0 2 2 0 1]\n",
      "[1 1 0 2 2 0 2 2 0 1]\n"
     ]
    }
   ],
   "source": [
    "# Using fit() to make our ML Model learn from training dataset\n",
    "# Here Pipeline make sure to do scaling,dimensionality-reduction etc bu itself\n",
    "pipeline.fit(X_train, y_train)\n",
    "\n",
    "# Using predict() to get prediction after learning from training dataset\n",
    "y_pred = pipeline.predict(X_test)\n",
    "print(y_pred[:10])\n",
    "print(y_test[:10])"
   ]
  },
  {
   "cell_type": "code",
   "execution_count": 45,
   "metadata": {},
   "outputs": [
    {
     "name": "stdout",
     "output_type": "stream",
     "text": [
      "Accuracy-score:0.9210526315789473\n"
     ]
    }
   ],
   "source": [
    "from sklearn.metrics import accuracy_score\n",
    "accuracy = accuracy_score(y_test, y_pred)\n",
    "\n",
    "print(f\"Accuracy-score:{accuracy}\")"
   ]
  },
  {
   "cell_type": "markdown",
   "metadata": {},
   "source": [
    "`Our Model is 92% accurate without putting any effort`\n"
   ]
  }
 ],
 "metadata": {
  "kernelspec": {
   "display_name": "base",
   "language": "python",
   "name": "python3"
  },
  "language_info": {
   "codemirror_mode": {
    "name": "ipython",
    "version": 3
   },
   "file_extension": ".py",
   "mimetype": "text/x-python",
   "name": "python",
   "nbconvert_exporter": "python",
   "pygments_lexer": "ipython3",
   "version": "3.9.7"
  }
 },
 "nbformat": 4,
 "nbformat_minor": 2
}
