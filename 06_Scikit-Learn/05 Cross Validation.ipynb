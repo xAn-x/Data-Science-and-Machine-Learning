{
 "cells": [
  {
   "cell_type": "markdown",
   "metadata": {},
   "source": [
    "`Cross-validation is a technique used in machine learning and statistics to assess the performance and generalization of a predictive model. Its primary purpose is to estimate how well a model will perform on unseen data, which is important for evaluating the model's ability to generalize beyond the training data. Cross-validation is especially useful when dealing with limited data, as it allows you to make the most of the available dataset.`\n",
    "\n",
    "Here's how cross-validation works:\n",
    "\n",
    "1. **Data Splitting**: The first step is to split your dataset into two parts: a training set and a testing (or validation) set. Typically, you might use 70-80% of your data for training and the remaining 20-30% for testing. However, in cross-validation, you divide your dataset into multiple, non-overlapping subsets, often referred to as \"folds.\"\n",
    "\n",
    "2. **K-Fold Cross-Validation**: The most common form of cross-validation is k-fold cross-validation. In k-fold cross-validation, you split your data into \"k\" equally sized folds. For example, if you choose 5-fold cross-validation, you'll have five subsets of your data.\n",
    "\n",
    "3. **Training and Testing Iteration**: You then perform k iterations, where in each iteration, you choose one of the k folds as the testing set and the remaining k-1 folds as the training set. This way, each fold gets a chance to be the testing set, and the model is trained and evaluated multiple times.\n",
    "\n",
    "4. **Evaluation**: For each iteration, you train your model on the training set and evaluate its performance on the testing set. You record the performance metrics (e.g., accuracy, mean squared error) for each fold.\n",
    "\n",
    "5. **Aggregation**: Finally, you aggregate the performance metrics from all iterations to get a more robust estimate of your model's performance. Common aggregation methods include taking the average or the median of the metrics.\n",
    "\n",
    "Here's an example of 5-fold cross-validation with a simple machine learning model, like linear regression:\n",
    "\n",
    "1. Split your dataset into 5 equally sized folds.\n",
    "2. For each iteration:\n",
    "   a. Choose one fold as the testing set and the remaining four as the training set.\n",
    "   b. Train a linear regression model on the training set.\n",
    "   c. Evaluate the model's performance (e.g., calculate the mean squared error) on the testing set.\n",
    "   d. Record the performance metric for this iteration.\n",
    "\n",
    "3. Calculate the average (or another relevant statistic) of the performance metrics from all 5 iterations to assess the model's overall performance.\n",
    "\n",
    "Cross-validation helps ensure that your model's performance evaluation is more reliable and less dependent on the specific data split. It can also help in identifying issues like overfitting, as the model is tested on multiple, independent subsets of the data."
   ]
  },
  {
   "cell_type": "code",
   "execution_count": 9,
   "metadata": {},
   "outputs": [],
   "source": [
    "from sklearn.datasets import load_diabetes\n",
    "from sklearn.model_selection import cross_val_score\n",
    "from sklearn.linear_model import Lasso"
   ]
  },
  {
   "cell_type": "code",
   "execution_count": 12,
   "metadata": {},
   "outputs": [
    {
     "data": {
      "text/plain": [
       "array([-0.28349047, -0.35157959, -0.3533813 , -0.33481474, -0.36453281])"
      ]
     },
     "execution_count": 12,
     "metadata": {},
     "output_type": "execute_result"
    }
   ],
   "source": [
    "X,y=load_diabetes(return_X_y=True)\n",
    "lasso=Lasso()\n",
    "\n",
    "val_scores=cross_val_score(lasso,X,y,cv=5)\n",
    "val_scores"
   ]
  },
  {
   "cell_type": "code",
   "execution_count": 13,
   "metadata": {},
   "outputs": [
    {
     "data": {
      "text/plain": [
       "-0.33755978342749465"
      ]
     },
     "execution_count": 13,
     "metadata": {},
     "output_type": "execute_result"
    }
   ],
   "source": [
    "final_estimated_score=val_scores.mean()\n",
    "final_estimated_score"
   ]
  },
  {
   "cell_type": "code",
   "execution_count": null,
   "metadata": {},
   "outputs": [],
   "source": []
  }
 ],
 "metadata": {
  "kernelspec": {
   "display_name": "base",
   "language": "python",
   "name": "python3"
  },
  "language_info": {
   "codemirror_mode": {
    "name": "ipython",
    "version": 3
   },
   "file_extension": ".py",
   "mimetype": "text/x-python",
   "name": "python",
   "nbconvert_exporter": "python",
   "pygments_lexer": "ipython3",
   "version": "3.9.7"
  }
 },
 "nbformat": 4,
 "nbformat_minor": 2
}
