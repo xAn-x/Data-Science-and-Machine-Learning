{
 "cells": [
  {
   "cell_type": "code",
   "execution_count": 1,
   "id": "5ca8ca1e",
   "metadata": {},
   "outputs": [],
   "source": [
    "import numpy as np"
   ]
  },
  {
   "cell_type": "code",
   "execution_count": 2,
   "id": "51e32f5e",
   "metadata": {},
   "outputs": [
    {
     "name": "stdout",
     "output_type": "stream",
     "text": [
      "[1, 2, 3, 4, 5] \n",
      "\n",
      "[1 2 3 4 5] \n",
      "\n",
      "[16 11 17  7  3]\n"
     ]
    }
   ],
   "source": [
    "l1=[1,2,3,4,5]\n",
    "\n",
    "arr1=np.array(l1)\n",
    "arr2=np.random.randint(1,20,5)\n",
    "\n",
    "print(l1,\"\\n\")\n",
    "print(arr1,\"\\n\")\n",
    "print(arr2)"
   ]
  },
  {
   "cell_type": "code",
   "execution_count": 3,
   "id": "0bf0a8f4",
   "metadata": {},
   "outputs": [
    {
     "name": "stdout",
     "output_type": "stream",
     "text": [
      "[3, 4, 5, 6, 7]\n",
      "[3 4 5 6 7]\n",
      "['DeepanshuBhatt' 'stanieee']\n"
     ]
    }
   ],
   "source": [
    "#What if I want to do a mathematical oprn on each ele of ele like increasing all no by k\n",
    "\n",
    "# In case of list we need to traverse and do li[i]+=k\n",
    "l1=[(ele+2) for ele in l1] #increasing every ele by 2->\n",
    "print(l1)\n",
    "\n",
    "#In case of np_arr we just need to do->arr=arr+k\n",
    "arr1=arr1+2\n",
    "print(arr1)\n",
    "\n",
    "# Note if u want to concatenate each string ele in a numpy array->\n",
    "array1=np.array([\"Deepanshu\",\"stan\"])\n",
    "array2=np.array([\"Bhatt\",\"ieee\"])\n",
    "\n",
    "\n",
    "# arr3=arr1+arr2 ->this is not supported\n",
    "print(np.char.add(array1,array2)) #use this instead to concatenate string array\n"
   ]
  },
  {
   "cell_type": "code",
   "execution_count": 4,
   "id": "f57c95ac",
   "metadata": {},
   "outputs": [
    {
     "name": "stdout",
     "output_type": "stream",
     "text": [
      "[48 44 85 42 21]\n",
      "['DeepanshuDeepanshuDeepanshu' 'stanstanstan']\n"
     ]
    }
   ],
   "source": [
    "# What if u want to add/sub/mul/etc.. 2 array idx-by-idx\n",
    "\n",
    "#In case of list traverse and add each idx ele but in case of np_arr->c=a+b that's it \n",
    "\n",
    "\n",
    "# NOTE--> no of ele should be same==>\n",
    "\n",
    "arr3=arr1*arr2 # We are doing res[i]= a[i]*b[i]\n",
    "print(arr3)\n",
    "\n",
    "# In case of string array if u want to concatenate each strin k time in itself then->\n",
    "\n",
    "# my_arr=np.array(array1*3) this is not supported \n",
    "print(np.char.multiply(array1,3))\n",
    "myarray=np.array(\"Hello world\")"
   ]
  },
  {
   "cell_type": "code",
   "execution_count": 5,
   "id": "13aeae14",
   "metadata": {},
   "outputs": [
    {
     "name": "stdout",
     "output_type": "stream",
     "text": [
      "[3 4 5 6 7] \n",
      "\n",
      "\n",
      "25\n",
      "5.0\n",
      "3\n",
      "4\n"
     ]
    }
   ],
   "source": [
    "print(arr1,\"\\n\\n\")\n",
    "# If u want ->\n",
    "\n",
    "# sum of all ele of arrays-->this sum() works with list also\n",
    "print(arr1.sum()) \n",
    "\n",
    "# mean of all ele arrays-->\n",
    "print(arr1.mean())\n",
    "\n",
    "# finding min.max ele in arr-->works with list too\n",
    "print(arr1.min())\n",
    "\n",
    "# finding index of max and min ele in arr-->\n",
    "print(arr1.argmax())"
   ]
  },
  {
   "cell_type": "code",
   "execution_count": 6,
   "id": "4d21a4db",
   "metadata": {},
   "outputs": [
    {
     "name": "stdout",
     "output_type": "stream",
     "text": [
      "arr2- [16 11 17  7  3]\n",
      "arr3- [48 44 85 42 21] \n",
      "\n",
      "\n",
      "[ True  True False  True  True]\n",
      "[16  8 17  2  1]\n",
      "[ True  True  True  True  True]\n"
     ]
    }
   ],
   "source": [
    "print('arr2-',arr2)\n",
    "print('arr3-',arr3,\"\\n\\n\")\n",
    "#We can perform logical oprn also->it compare ele by ele and return a array according to that cmp\n",
    "print(arr2+50 > arr3)\n",
    "\n",
    "# print(arr2==arr3) --> we can cmp elements ele by ele\n",
    "\n",
    "# We can also do bit wise oprn over elements also\n",
    "print(arr2&arr3) \n",
    "\n",
    "# We can do logical and/or/not oprn also but for it we need to use-->\n",
    "    #np.logical_and(arr1,arr2) ==> and\n",
    "    #np.logical_or(arr1,arr2) ==> or\n",
    "    #np.logical_not(arr1) ==> !\n",
    "    \n",
    "print(np.logical_or(arr2,arr3))"
   ]
  },
  {
   "cell_type": "markdown",
   "id": "497ceefe",
   "metadata": {},
   "source": [
    "------------------------------------------BOOLEAN INDEXING---------------------------------------------"
   ]
  },
  {
   "cell_type": "code",
   "execution_count": 7,
   "id": "c4874563",
   "metadata": {},
   "outputs": [
    {
     "name": "stdout",
     "output_type": "stream",
     "text": [
      "[False False  True False False  True  True  True  True False]\n",
      "[21 12 11 12 56]\n"
     ]
    }
   ],
   "source": [
    "import numpy as np\n",
    "\n",
    "# Boolean indexing is a type of indexing which uses actual values of the data in the DataFrame\n",
    "\n",
    "# Boolean indexing helps us to select the data from the DataFrames using a boolean vector.\n",
    "# We need a DataFrame with a boolean index to use the boolean indexing\n",
    "\n",
    "#It is a very important technique for extracting data from the DataFrame\n",
    "\n",
    "\n",
    "\n",
    "#Let say we have an array and I want to extract all values > k \n",
    "li=[1,4,21,2,10,12,11,12,56,-19]\n",
    "np_arr=np.array(li)\n",
    "\n",
    "print(np_arr>10)\n",
    "\n",
    "# Now to get val greater than 10 I can simply do b=arr[arr>10]\n",
    "res_arr=np_arr[np_arr>10];\n",
    "\n",
    "print(res_arr)"
   ]
  },
  {
   "cell_type": "code",
   "execution_count": 8,
   "id": "191fe630",
   "metadata": {},
   "outputs": [
    {
     "name": "stdout",
     "output_type": "stream",
     "text": [
      "[100 100 100  12  56]\n",
      "[27 27 27 12 27]\n"
     ]
    }
   ],
   "source": [
    "# I can update no of values in 1 go also according to condn\n",
    "temp_arr=res_arr\n",
    "\n",
    "temp_arr[:3]=100\n",
    "print(temp_arr)\n",
    "\n",
    "temp_arr[temp_arr>=50]=27 #Convert all val >=50 to 27\n",
    "print(temp_arr)"
   ]
  },
  {
   "cell_type": "code",
   "execution_count": 9,
   "id": "67bd79e8",
   "metadata": {},
   "outputs": [
    {
     "name": "stdout",
     "output_type": "stream",
     "text": [
      "(array([0, 1, 2, 4], dtype=int64),)\n",
      "(array([], dtype=int64),)\n"
     ]
    }
   ],
   "source": [
    "# np.where(arr==ele) ->return an array containing all indexes where the particular idx is +nt in array\n",
    "\n",
    "print(np.where(temp_arr==27))\n",
    "print(np.where(temp_arr==2))\n"
   ]
  },
  {
   "cell_type": "code",
   "execution_count": 10,
   "id": "bc271f2e",
   "metadata": {},
   "outputs": [
    {
     "name": "stdout",
     "output_type": "stream",
     "text": [
      "['b' 'Deepanshu' 'e' 'f' 'g']\n"
     ]
    }
   ],
   "source": [
    "import numpy as np\n",
    "#Let's say we have to array arr and  brr and I want to print all values of brr only when arr>k-->\n",
    "l1=[1,43,29,-1,928,83,67,12,9,8,10]\n",
    "l2=['a','b',\"Deepanshu\",'32','e','f','g','h','i','j','k']\n",
    "\n",
    "arr=np.array(l1)\n",
    "brr=np.array(l2)\n",
    "\n",
    "val_idx=np.where(arr>20)\n",
    "print(brr[val_idx]) #Val_idx contain all index where ele >20 and then we are printting brr values for that"
   ]
  },
  {
   "cell_type": "markdown",
   "id": "f5f49d9a",
   "metadata": {},
   "source": [
    "---------------------------------BOOLEAN INDEXING --> 2D-array----------------------------------------"
   ]
  },
  {
   "cell_type": "code",
   "execution_count": 11,
   "id": "b752f913",
   "metadata": {},
   "outputs": [
    {
     "name": "stdout",
     "output_type": "stream",
     "text": [
      "[[13 12 28 28 21 22]\n",
      " [13 17 19 14 10  5]\n",
      " [26  7  3  9 18  1]\n",
      " [12 13  8 17  6 20]\n",
      " [16 23 14 11 12  1]]\n"
     ]
    }
   ],
   "source": [
    "# Same as in 1d array\n",
    "\n",
    "arr_2d=np.random.randint(1,30,(5,6))\n",
    "print(arr_2d)"
   ]
  },
  {
   "cell_type": "code",
   "execution_count": 12,
   "id": "5dbb7b32",
   "metadata": {},
   "outputs": [
    {
     "name": "stdout",
     "output_type": "stream",
     "text": [
      "[[False False  True  True  True  True]\n",
      " [False False False False False False]\n",
      " [ True False False False False False]\n",
      " [False False False False False False]\n",
      " [False  True False False False False]]\n"
     ]
    }
   ],
   "source": [
    "bool_arr=(arr_2d>20)\n",
    "print(bool_arr)"
   ]
  },
  {
   "cell_type": "code",
   "execution_count": 13,
   "id": "7faf03d2",
   "metadata": {},
   "outputs": [
    {
     "name": "stdout",
     "output_type": "stream",
     "text": [
      "[28 28 21 22 26 23]\n"
     ]
    }
   ],
   "source": [
    "idx=arr_2d[bool_arr]\n",
    "print(idx)\n"
   ]
  },
  {
   "cell_type": "code",
   "execution_count": 14,
   "id": "1f171651",
   "metadata": {},
   "outputs": [
    {
     "name": "stdout",
     "output_type": "stream",
     "text": [
      "[[13 12 28 -1 21 22]\n",
      " [13 17 19 -1 10  5]\n",
      " [26  7  3  9 18  1]\n",
      " [12 13  8 -1  6 20]\n",
      " [16 23 14 -1 12  1]]\n"
     ]
    }
   ],
   "source": [
    "# Updating a specefic col->\n",
    "\n",
    "#Change all elements in col 3 to -1 viz>10\n",
    "bool_arr=arr_2d[:,3]>10\n",
    "\n",
    "arr_2d[bool_arr,3]=-1\n",
    "print(arr_2d)"
   ]
  },
  {
   "cell_type": "code",
   "execution_count": 17,
   "id": "77ed0999",
   "metadata": {},
   "outputs": [
    {
     "name": "stdout",
     "output_type": "stream",
     "text": [
      "[[40  4 32 13 34]\n",
      " [15  1 42 49 40]\n",
      " [43 39 30 11 20]\n",
      " [14 48 15 34 43]]\n",
      "------------------------------------------------------------------\n",
      "[[[14  1 15 11 20]\n",
      "  [15  4 30 13 34]\n",
      "  [40 39 32 34 40]\n",
      "  [43 48 42 49 43]]]\n"
     ]
    }
   ],
   "source": [
    "import numpy as np\n",
    "# Sort a 2d array of shape 4,5 on based on 2nd col->i.e all rows shold be sorted according to 2nd col values\n",
    "\n",
    "\n",
    "# Sorting 2D Numpy Array by column at index col_num\n",
    "\n",
    "# columnIndex = col_num\n",
    "# sortedArr = arr2D[arr2D[:,columnIndex].argsort()]\n",
    "\n",
    "arr_2d=np.random.randint(1,50,(4,5))\n",
    "print(arr_2d)\n",
    "\n",
    "print(\"------------------------------------------------------------------\")\n",
    "\n",
    "for i in range(5):\n",
    "    sortedArr=arr_2d[arr_2d[:,i].sort()]\n",
    "\n",
    "print(sortedArr)\n",
    "\n",
    "# ---------------------------------------------------------------------------------------------------------\n",
    "# How did it worked ?\n",
    "# Let’s break down the above expression part by part and understand how ot worked.\n",
    "\n",
    "# Select the column at index col_num from 2D numpy array i.e.\n",
    "# arr2D[:,columnIndex]\n",
    "\n",
    "# Now get the array of indices that sort this column i.e.\n",
    "# arr2D[:,columnIndex].argsort()\n",
    "\n",
    "# To change the positioning of rows based on values returned by argsort(). Pass that to [] operator of 2D numpy array i.e.\n",
    "# arr2D[arr2D[:,columnIndex].argsort()]\n",
    "\n",
    "# ---------------------------------------------------------------------------------------------------------"
   ]
  },
  {
   "cell_type": "code",
   "execution_count": 16,
   "id": "6c1ddc29",
   "metadata": {},
   "outputs": [
    {
     "name": "stdout",
     "output_type": "stream",
     "text": [
      "[[18 10 16 14]\n",
      " [17 10 14 17]\n",
      " [19 13 13 15]]\n"
     ]
    }
   ],
   "source": [
    "arr=np.random.randint(10,20,(3,4))\n",
    "print(arr)\n",
    "\n",
    "arr.sort()"
   ]
  }
 ],
 "metadata": {
  "kernelspec": {
   "display_name": "Python 3 (ipykernel)",
   "language": "python",
   "name": "python3"
  },
  "language_info": {
   "codemirror_mode": {
    "name": "ipython",
    "version": 3
   },
   "file_extension": ".py",
   "mimetype": "text/x-python",
   "name": "python",
   "nbconvert_exporter": "python",
   "pygments_lexer": "ipython3",
   "version": "3.9.7"
  }
 },
 "nbformat": 4,
 "nbformat_minor": 5
}
