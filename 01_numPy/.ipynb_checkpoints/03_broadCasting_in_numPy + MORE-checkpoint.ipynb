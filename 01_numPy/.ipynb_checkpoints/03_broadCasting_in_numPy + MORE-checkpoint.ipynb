{
 "cells": [
  {
   "cell_type": "markdown",
   "id": "78351d7a",
   "metadata": {},
   "source": [
    "------------------------------------------BROADCASTING-----------------------------------------------"
   ]
  },
  {
   "cell_type": "code",
   "execution_count": 2,
   "id": "b92c0396",
   "metadata": {},
   "outputs": [],
   "source": [
    "# The term broadcasting describes how NumPy treats arrays with different shapes during arithmetic operations\n",
    "\n",
    "# Subject to certain constraints, the smaller array is “broadcast” across the larger array so that they\n",
    "# have compatible shapes.\n",
    "\n",
    "# Broadcasting provides a means of vectorizing array operations so that looping occurs in C instead of Python.\n",
    "# It does this without making needless copies of data and usually leads to efficient algorithm implementations \n",
    "# There are, however, cases where broadcasting is a bad idea because it leads to inefficient use of memory \n",
    "# that slows computation.\n",
    "\n",
    "#--------------------------------Have attached some pics to demonstrate----------------------------------\n",
    "\n",
    "# There are only 2 rules of broadcasting->\n",
    "    # If all dimns are same in 2 n-d array always broadcast \n",
    "    # If any one dimn is 1 then also broad cast if possible\n",
    "    \n",
    "    # Other than this broadcasting is not possible"
   ]
  },
  {
   "cell_type": "code",
   "execution_count": 1,
   "id": "b8f0c816",
   "metadata": {},
   "outputs": [
    {
     "name": "stdout",
     "output_type": "stream",
     "text": [
      "In India=> 1167.0\n",
      "Total=> 51372.0\n"
     ]
    }
   ],
   "source": [
    "# In file year2017_csv_testFile2 count total no of killed and woud people in country INDIA->\n",
    "\n",
    "import numpy as np\n",
    "import csv\n",
    "\n",
    "with open(\"year2017_csv_testFile2.csv\") as file:\n",
    "    data=(csv.DictReader(file,skipinitialspace = True))\n",
    "    \n",
    "    killed_list=[]\n",
    "    wounded_list=[]\n",
    "    country_list=[]\n",
    "    \n",
    "    \n",
    "    for row in data:      \n",
    "    # Converting all killed and wounded value to float\n",
    "        killed_list.append(float(row['Killed']) if row['Killed']!='' else 0)\n",
    "        wounded_list.append(float(row['Wounded']) if row['Wounded']!='' else 0)\n",
    "        country_list.append(row['Country'])\n",
    "    \n",
    "    # Creating array for all valuess-->\n",
    "    np_killed=np.array(killed_list)\n",
    "    np_wounded=np.array(wounded_list)\n",
    "    np_country=np.array(country_list)\n",
    "    \n",
    "    # creating array for both killed and wounded people\n",
    "    np_killed_wounded=np_killed+np_wounded\n",
    "    \n",
    "    # Finding place where we have 'India'\n",
    "    bool_arr=np_country=='India'\n",
    "    \n",
    "    # Creating array for Indain people only\n",
    "    ans=np_killed_wounded[bool_arr]\n",
    "    print(\"In India=>\",np.sum(ans))\n",
    "    print(\"Total=>\",np.sum(np_killed_wounded))"
   ]
  },
  {
   "cell_type": "code",
   "execution_count": 4,
   "id": "b211b2c9",
   "metadata": {},
   "outputs": [
    {
     "name": "stdout",
     "output_type": "stream",
     "text": [
      "[[1 1 5 4 6]\n",
      " [6 2 2 5 4]\n",
      " [5 5 4 2 6]\n",
      " [4 9 8 2 2]] \n",
      "\n",
      "[[15 11 13 19 11]\n",
      " [13 12 11 15 15]\n",
      " [18 19 14 10 19]\n",
      " [11 14 10 19 15]]\n",
      "-------------------\n",
      "[[14 10  8 15  5]\n",
      " [ 7 10  9 10 11]\n",
      " [13 14 10  8 13]\n",
      " [ 7  5  2 17 13]]\n",
      "==========================================================================\n",
      "\n",
      "[[8 1 6 2 1]\n",
      " [3 8 4 2 5]\n",
      " [5 8 6 8 9]\n",
      " [4 9 5 6 7]] \n",
      "\n",
      "[12 13 14 19 16]\n",
      "-------------------\n",
      "[[ 4 12  8 17 15]\n",
      " [ 9  5 10 17 11]\n",
      " [ 7  5  8 11  7]\n",
      " [ 8  4  9 13  9]]\n"
     ]
    }
   ],
   "source": [
    "import numpy as np\n",
    "# Since dimns are same broadcasting is possible->\n",
    "arr1=np.random.randint(1,10,(4,5))\n",
    "arr2=np.random.randint(10,20,(4,5))\n",
    "\n",
    "print(arr1,'\\n')\n",
    "print(arr2)\n",
    "print(\"-------------------\")\n",
    "print(arr2-arr1)\n",
    "\n",
    "print(\"==========================================================================\\n\")\n",
    "arr1=np.random.randint(1,10,(4,5))\n",
    "# arr2=np.random.randint(10,20,4) this one is not compatible\n",
    "arr2=np.random.randint(10,20,5) # this one is  compatible\n",
    "\n",
    "\n",
    "print(arr1,'\\n')\n",
    "print(arr2)\n",
    "print(\"-------------------\")\n",
    "print(arr2-arr1)"
   ]
  },
  {
   "cell_type": "code",
   "execution_count": 10,
   "id": "0110c04e",
   "metadata": {},
   "outputs": [
    {
     "name": "stdout",
     "output_type": "stream",
     "text": [
      "arr2-initially:\n",
      "[[12 13 14 19 16 12 13 14 19 16]\n",
      " [12 13 14 19 16 12 13 14 19 16]]\n",
      "\n",
      "[[12 13 14 19 16]\n",
      " [12 13 14 19 16]\n",
      " [12 13 14 19 16]\n",
      " [12 13 14 19 16]]\n",
      "\n",
      " [[12 13 14 19 16 12 13 14 19 16]\n",
      " [12 13 14 19 16 12 13 14 19 16]]\n"
     ]
    }
   ],
   "source": [
    "# More functions are to make broadcasting compatible->\n",
    "\n",
    "# resize()->\n",
    "# numpy.resize(a, new_shape)[source]\n",
    "# Return a new array with the specified shape.\n",
    "\n",
    "# If the new array is larger than the original array, then the new array is filled with \n",
    "# repeated copies of a. Note that this behavior is different from a.resize(new_shape) which fills with\n",
    "# zeros instead of repeated copies of a.\n",
    "\n",
    "# Parameters\n",
    "# a array_like\n",
    "# Array to be resized.\n",
    "\n",
    "# new_shapeint or tuple of int\n",
    "# Shape of resized array.\n",
    "\n",
    "# Returns\n",
    "# reshaped_arrayndarray\n",
    "# The new array is formed from the data in the old array, repeated if necessary to fill out the required \n",
    "# number of elements. The data are repeated iterating over the array in C-order.\n",
    "print(f\"arr2-initially:\\n{arr2}\\n\")\n",
    "arr2=np.resize(arr2,(4,5))\n",
    "print(arr2)\n",
    "\n",
    "\n",
    "\n",
    "\n",
    "# numpy.reshape(a, newshape, order='C')[source]\n",
    "# Gives a new shape to an array without changing its data.\n",
    "\n",
    "# Parameters\n",
    "# aarray_like\n",
    "# Array to be reshaped.\n",
    "\n",
    "# newshape int or tuple of ints\n",
    "# The new shape should be compatible with the original shape. If an integer, then the result will be a 1-D\n",
    "# array of that length. One shape dimension can be -1. In this case, the value is inferred from the \n",
    "# length of the array and remaining dimensions.\n",
    "\n",
    "# order{‘C’, ‘F’, ‘A’}, optional->\n",
    "# Read the elements of a using this index order, and place the elements into the reshaped array using this\n",
    "# index order. ‘C’ means to read / write the elements using C-like index order, with the last axis index \n",
    "# changing fastest, back to the first axis index changing slowest. ‘F’ means to read / write the elements\n",
    "# using Fortran-like index order, with the first index changing fastest, and the last index changing \n",
    "# slowest. \n",
    "# Note that the ‘C’ and ‘F’ options take no account of the memory layout of the underlying array, and only\n",
    "# refer to the order of indexing.\n",
    "\n",
    "# ‘A’ means to read / write the elements in Fortran-like index order if a is Fortran contiguous in memory,\n",
    "# C-like order otherwise.\n",
    "\n",
    "# Returns\n",
    "# reshaped_array - ndarray\n",
    "# This will be a new view object if possible; otherwise, it will be a copy. Note there is no guarantee of the memory \n",
    "# layout (C- or Fortran- contiguous) of the returned array.\n",
    "\n",
    "\n",
    "arr2=np.reshape(arr2,(2,10)) # Note product of all orgnl_dim == product of all new_dimn\n",
    "print('\\n',arr2)"
   ]
  },
  {
   "cell_type": "code",
   "execution_count": 6,
   "id": "8a38f3fe",
   "metadata": {},
   "outputs": [
    {
     "name": "stdout",
     "output_type": "stream",
     "text": [
      "[[2 9 9 2 9]\n",
      " [4 9 4 7 5]\n",
      " [1 9 3 8 7]\n",
      " [1 4 4 7 5]]\n",
      "-------------Transpose------------------\n",
      "[[2 4 1 1]\n",
      " [9 9 9 4]\n",
      " [9 4 3 4]\n",
      " [2 7 8 7]\n",
      " [9 5 7 5]]\n"
     ]
    }
   ],
   "source": [
    "# In numpy we can also find transpose of our matrix ->np.transpose(matrix)\\\n",
    "import numpy as np\n",
    "\n",
    "arr=np.random.randint(1,10,(4,5));\n",
    "print(arr)\n",
    "print(\"-------------Transpose------------------\")\n",
    "arr=np.transpose(arr)\n",
    "print(arr)"
   ]
  },
  {
   "cell_type": "code",
   "execution_count": null,
   "id": "bb41a85f",
   "metadata": {},
   "outputs": [],
   "source": []
  }
 ],
 "metadata": {
  "kernelspec": {
   "display_name": "Python 3 (ipykernel)",
   "language": "python",
   "name": "python3"
  },
  "language_info": {
   "codemirror_mode": {
    "name": "ipython",
    "version": 3
   },
   "file_extension": ".py",
   "mimetype": "text/x-python",
   "name": "python",
   "nbconvert_exporter": "python",
   "pygments_lexer": "ipython3",
   "version": "3.9.7"
  }
 },
 "nbformat": 4,
 "nbformat_minor": 5
}
